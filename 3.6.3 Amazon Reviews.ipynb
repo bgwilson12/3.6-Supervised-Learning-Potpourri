{
 "cells": [
  {
   "cell_type": "code",
   "execution_count": 59,
   "metadata": {},
   "outputs": [],
   "source": [
    "import pandas as pd\n",
    "import numpy as np\n",
    "from sklearn.naive_bayes import BernoulliNB\n",
    "from sklearn.feature_extraction.text import CountVectorizer\n",
    "from sklearn.model_selection import train_test_split\n",
    "from sklearn.metrics import precision_recall_fscore_support"
   ]
  },
  {
   "cell_type": "code",
   "execution_count": 6,
   "metadata": {},
   "outputs": [
    {
     "data": {
      "text/html": [
       "<div>\n",
       "<style scoped>\n",
       "    .dataframe tbody tr th:only-of-type {\n",
       "        vertical-align: middle;\n",
       "    }\n",
       "\n",
       "    .dataframe tbody tr th {\n",
       "        vertical-align: top;\n",
       "    }\n",
       "\n",
       "    .dataframe thead th {\n",
       "        text-align: right;\n",
       "    }\n",
       "</style>\n",
       "<table border=\"1\" class=\"dataframe\">\n",
       "  <thead>\n",
       "    <tr style=\"text-align: right;\">\n",
       "      <th></th>\n",
       "      <th>asin</th>\n",
       "      <th>helpful</th>\n",
       "      <th>overall</th>\n",
       "      <th>reviewText</th>\n",
       "      <th>reviewTime</th>\n",
       "      <th>reviewerID</th>\n",
       "      <th>reviewerName</th>\n",
       "      <th>summary</th>\n",
       "      <th>unixReviewTime</th>\n",
       "    </tr>\n",
       "  </thead>\n",
       "  <tbody>\n",
       "    <tr>\n",
       "      <th>0</th>\n",
       "      <td>B00002243X</td>\n",
       "      <td>[4, 4]</td>\n",
       "      <td>5</td>\n",
       "      <td>I needed a set of jumper cables for my new car...</td>\n",
       "      <td>08 17, 2011</td>\n",
       "      <td>A3F73SC1LY51OO</td>\n",
       "      <td>Alan Montgomery</td>\n",
       "      <td>Work Well - Should Have Bought Longer Ones</td>\n",
       "      <td>1313539200</td>\n",
       "    </tr>\n",
       "    <tr>\n",
       "      <th>1</th>\n",
       "      <td>B00002243X</td>\n",
       "      <td>[1, 1]</td>\n",
       "      <td>4</td>\n",
       "      <td>These long cables work fine for my truck, but ...</td>\n",
       "      <td>09 4, 2011</td>\n",
       "      <td>A20S66SKYXULG2</td>\n",
       "      <td>alphonse</td>\n",
       "      <td>Okay long cables</td>\n",
       "      <td>1315094400</td>\n",
       "    </tr>\n",
       "    <tr>\n",
       "      <th>2</th>\n",
       "      <td>B00002243X</td>\n",
       "      <td>[0, 0]</td>\n",
       "      <td>5</td>\n",
       "      <td>Can't comment much on these since they have no...</td>\n",
       "      <td>07 25, 2013</td>\n",
       "      <td>A2I8LFSN2IS5EO</td>\n",
       "      <td>Chris</td>\n",
       "      <td>Looks and feels heavy Duty</td>\n",
       "      <td>1374710400</td>\n",
       "    </tr>\n",
       "    <tr>\n",
       "      <th>3</th>\n",
       "      <td>B00002243X</td>\n",
       "      <td>[19, 19]</td>\n",
       "      <td>5</td>\n",
       "      <td>I absolutley love Amazon!!!  For the price of ...</td>\n",
       "      <td>12 21, 2010</td>\n",
       "      <td>A3GT2EWQSO45ZG</td>\n",
       "      <td>DeusEx</td>\n",
       "      <td>Excellent choice for Jumper Cables!!!</td>\n",
       "      <td>1292889600</td>\n",
       "    </tr>\n",
       "    <tr>\n",
       "      <th>4</th>\n",
       "      <td>B00002243X</td>\n",
       "      <td>[0, 0]</td>\n",
       "      <td>5</td>\n",
       "      <td>I purchased the 12' feet long cable set and th...</td>\n",
       "      <td>07 4, 2012</td>\n",
       "      <td>A3ESWJPAVRPWB4</td>\n",
       "      <td>E. Hernandez</td>\n",
       "      <td>Excellent, High Quality Starter Cables</td>\n",
       "      <td>1341360000</td>\n",
       "    </tr>\n",
       "  </tbody>\n",
       "</table>\n",
       "</div>"
      ],
      "text/plain": [
       "         asin   helpful  overall  \\\n",
       "0  B00002243X    [4, 4]        5   \n",
       "1  B00002243X    [1, 1]        4   \n",
       "2  B00002243X    [0, 0]        5   \n",
       "3  B00002243X  [19, 19]        5   \n",
       "4  B00002243X    [0, 0]        5   \n",
       "\n",
       "                                          reviewText   reviewTime  \\\n",
       "0  I needed a set of jumper cables for my new car...  08 17, 2011   \n",
       "1  These long cables work fine for my truck, but ...   09 4, 2011   \n",
       "2  Can't comment much on these since they have no...  07 25, 2013   \n",
       "3  I absolutley love Amazon!!!  For the price of ...  12 21, 2010   \n",
       "4  I purchased the 12' feet long cable set and th...   07 4, 2012   \n",
       "\n",
       "       reviewerID     reviewerName  \\\n",
       "0  A3F73SC1LY51OO  Alan Montgomery   \n",
       "1  A20S66SKYXULG2         alphonse   \n",
       "2  A2I8LFSN2IS5EO            Chris   \n",
       "3  A3GT2EWQSO45ZG           DeusEx   \n",
       "4  A3ESWJPAVRPWB4     E. Hernandez   \n",
       "\n",
       "                                      summary  unixReviewTime  \n",
       "0  Work Well - Should Have Bought Longer Ones      1313539200  \n",
       "1                            Okay long cables      1315094400  \n",
       "2                  Looks and feels heavy Duty      1374710400  \n",
       "3       Excellent choice for Jumper Cables!!!      1292889600  \n",
       "4      Excellent, High Quality Starter Cables      1341360000  "
      ]
     },
     "execution_count": 6,
     "metadata": {},
     "output_type": "execute_result"
    }
   ],
   "source": [
    "df_raw = pd.read_json('..//Datasets//Automotive_5.json', lines=True)\n",
    "df_raw.head()"
   ]
  },
  {
   "cell_type": "code",
   "execution_count": 21,
   "metadata": {},
   "outputs": [
    {
     "name": "stdout",
     "output_type": "stream",
     "text": [
      "Review #1: \n",
      " I needed a set of jumper cables for my new car and these had good reviews and were at a good price.  They have been used a few times already and do what they are supposed to - no complaints there.What I will say is that 12 feet really isn't an ideal length.  Sure, if you pull up front bumper to front bumper they are plenty long, but a lot of times you will be beside another car or can't get really close.  Because of this, I would recommend something a little longer than 12'.Great brand - get 16' version though. \n",
      "\n",
      "\n",
      "Review #2: \n",
      " These long cables work fine for my truck, but the quality seems a little on the shabby side. For the money I was not expecting 200 dollar snap-on jumper cables but these seem more like what you would see at a chinese knock off shop like harbor freight for 30 bucks. \n",
      "\n",
      "\n",
      "Review #3: \n",
      " Can't comment much on these since they have not yet been used (I will come back and update my review is I find any issues after first use) ... but they are built solid, nice tough big hard clamps and love having a long cable so I never have to move cars around or anything if needed. I bought these to have in my new truck since you always need cables ... but another reason is for when I tow my travel trailer and we run the batteries with no shore power they may die after a couple days ... if you are in need a quick small recharge they are the perfect length to pop my hood, run the cables to the back of the truck and hook up to the batteries that are on the tongue of my travel trailer ... running the truck for 30-45 minutes with this nice large gauge wire connected from my battery tot he trailer battery will give me a bit of a charge if ever in a pinch and I have no shore power, solar, or generator to recharge.Bought the bucket boss 06009 jumper cable bag and it fit this 25 footer Perfectly!!!It has no use and is a waste of money right now ... but will EASILY pay for itself the first time you need it ... always be prepared! :) \n",
      "\n",
      "\n",
      "Review #4: \n",
      " I absolutley love Amazon!!!  For the price of a set of cheap Booster/Jumper Cables in a brick and morter store, you can buy extra long and heavy duty jumpers!  First off, don't be the person that not only needs to ask a kind passer-by for a \"jump\" but also if they have jumper cables.  It's MUCH easier to get a jump start if you have your own cables.Next lets talk about sizing.  Having the longest cable possible is a major plus if your car is parked up against something like a pole or wall, or even parked on a one way street.  The \"booster car\" (the car w/o a dead battery) can pull in close enough to use the cables without having to manuver into some akward position.  Or better yet, you won't have to push your vehicle into a position to be jumped.  If your diving a normal sized car they can even pull in behind you to jump you!  Or if their vehicle is the shorter of the two, they could pull in front.  Now how about gauge?  For those who aren't electricians or engineers, as the number value of gauge decreases, the size and capacity of the cable increases.  So for example 6-ga has about twice as much copper wire as 8-ga, and 4-ga is a about twice as much as 6-ga, so on and so on.  That doesn't mean you double the capacity of wire with every two numbers though.  4-gauge may sound like a lot but it really isn't.The technical stuff.  Don't worry if this doesn't make sense, you don't really need to know all of this, but I'm trying to make a point as to why to get the longest and heavist cables you can.  I'm not an electrican but I've worked with it long enough to know a few general rules of thumb.  First of the enemy of electricty is resistance.  Resistance ultimately determines the load a particular wire can carry.  Five things factor into resistance.  Temperature, conductor, voltage, load, and distance.  Temp we can't control, so we have to assume the worst (HOT)...or in other words need heavier cable.  Conductor should be copper, or at least a high purity mix of copper...good there.  Voltage...12VDC is a low voltage system...probably the biggest problem we face.  Since is a low voltage system we have to contend with voltage drop as it travels over the wire.  The higher the voltage, the longer it can run with acceptable levels of voltage drop over a particular gauge wire...so again since it's low voltage need heavier gauge wire.  Load (Amperage)...it's a car starter so it takes A LOT of power.  The voltage is a fixed number (more or less) so Amperage is determined by the size of the engine your trying to start.  And you'd be surprised how high that can be.  Even a small engine can be well over 300 Cranking Amps.  That said even a \"dead\" battery will put out some power.  As for distance...this cables selling point is also a draw back.  25' is LONG run for 12VDC.  So like I said in the last line 4-ga isn't as much as you think.  In fact, if you have an engine over 6-liters you should really consider 2-ga for this distance.  So summing up in layman's terms...considering the hot temperatures outside, the fact that it's 12VDC and we need a long cable, and that we're trying to start a car engine (which takes a LOT of power) these are the ONLY cables I could reccomend for anyone driving a small car up to a light truck.Lets talk about how to properly start a car with a drained battery.  Make sure the LAST connection make is the NEG clamp to the \"dead\" car on a frame ground (something metal and NOT MOVING or GOING TO MOVE in the engine compartment.)  Don't attach it directly to the battery's NEG post.  Next lightly rev the engine of the running vehicle for 3 to 5 minutes.  This will put a bit of a surface charge on the dead battery.  Then attempt to start the car.  As soon as it starts remove the cables (starting with the NEG on the car being jumped.)  If you ever have a dead battery for any reason...take it to an auto parts store as soon as possible and have it tested to make sure it still holds a proper charge.  Most places do it for free.  NEVER touch the clamps together once connected to a battery!!!  Doing so could damage you vehicles electrical system, and/or cause fire, burns, explosion of the battery, damages to your cables...A couple of final thoughts.  Protect your investment.  I bought a cable bag that works really well to keep them from getting tangled with everything in my trunk.  Also keep the twist ties that come with them which will keep them organized inside the cable bag.  And once used, take them home and clean and dry them before storing them once again.  The oils inside of engine compartments can be corrosive to rubber jackets and copper contacts.  These cables are more than worth they weight in gold!  They are inexpensive and top notch quality! \n",
      "\n",
      "\n",
      "Review #5: \n",
      " I purchased the 12' feet long cable set and they arrived in a retail cardboard box with handle, which could be used as a storage and carrying case for these cables, although I will not need to store them with the carry box.  These are high quality long cables of high grade materials and I believe worth the price I paid for them.  They will store in the back seat storage compartment of my truck easily.  Recomend. \n",
      "\n",
      "\n"
     ]
    }
   ],
   "source": [
    "# Let's read the first 5 reviews\n",
    "for i in range(5):\n",
    "    print('Review #{}: \\n'.format(1+i), df_raw.reviewText[i], '\\n\\n')"
   ]
  },
  {
   "cell_type": "code",
   "execution_count": 36,
   "metadata": {},
   "outputs": [
    {
     "name": "stdout",
     "output_type": "stream",
     "text": [
      "Null values in reviewText: \n",
      "0 \n",
      "\n",
      "Null values in ratings: \n",
      "0 \n",
      "\n"
     ]
    },
    {
     "data": {
      "text/plain": [
       "5    13928\n",
       "4     3967\n",
       "3     1430\n",
       "2      606\n",
       "1      542\n",
       "Name: overall, dtype: int64"
      ]
     },
     "execution_count": 36,
     "metadata": {},
     "output_type": "execute_result"
    }
   ],
   "source": [
    "print('Null values in reviewText: \\n{}'.format(df_raw.reviewText.isnull().sum()), '\\n')\n",
    "print('Null values in ratings: \\n{}'.format(df_raw.overall.isnull().sum()), '\\n')\n",
    "df_raw.overall.value_counts()"
   ]
  },
  {
   "cell_type": "markdown",
   "metadata": {},
   "source": [
    "There is not really a clear cut way of determining a positive or negative sentiment from the data. There is no category for it like there was in the first sentiment analysis assignment. This leaves us with the tricky decision of engineering that feature from the data we have. I'd like to use the ratings but I'm not quite sure what to do with the neutral rating of '3'. Should we make a third class called neutral? Do we omit all ratings with '3'? Do we round up/down so that it is in a positive/negative class?\n",
    "\n",
    "Let's explore those questions."
   ]
  },
  {
   "cell_type": "code",
   "execution_count": 103,
   "metadata": {},
   "outputs": [],
   "source": [
    "# First, let's make a few different x variables.\n",
    "# Drop all ratings of three\n",
    "df_drop_three = df_raw[df_raw['overall']!=3].copy()\n",
    "X_drop = df_drop_three.loc[:, 'reviewText']\n",
    "y_drop = np.where(df_drop_three.loc[:, 'overall']>3, 1, 0)"
   ]
  },
  {
   "cell_type": "code",
   "execution_count": 104,
   "metadata": {},
   "outputs": [],
   "source": [
    "# Never used the following method before. What it does is makes a huge sparse matrix\n",
    "# using each word as a feature. Let's try it, and hope my computer doesn't explode in the process\n",
    "count_vect = CountVectorizer()\n",
    "X_drop_counts = count_vect.fit_transform(X_drop)\n",
    "\n",
    "# And now we can split the data\n",
    "X_train, X_test, y_train, y_test = train_test_split(X_drop_counts, y_drop, test_size=0.2)"
   ]
  },
  {
   "cell_type": "code",
   "execution_count": 105,
   "metadata": {},
   "outputs": [
    {
     "name": "stdout",
     "output_type": "stream",
     "text": [
      "Precision, Recall, F1 Score: \n",
      "(0.9475335044197319, 0.9274351102428133, 0.93737658674189, None)\n",
      "[[  5.   6.   1. ...   0.   3.   0.]\n",
      " [ 82. 133.   2. ...   1.  13.   1.]]\n"
     ]
    }
   ],
   "source": [
    "binary_clf = BernoulliNB()\n",
    "binary_clf.fit(X_train, y_train)\n",
    "y_pred = binary_clf.predict(X_test)\n",
    "result_delete = precision_recall_fscore_support(y_test, y_pred, average='binary')\n",
    "print('Precision, Recall, F1 Score: \\n{}'.format(result_delete))\n",
    "print(binary_clf.feature_count_)"
   ]
  },
  {
   "cell_type": "markdown",
   "metadata": {},
   "source": [
    "Wow, that was handled very nicely! It ran really fast and I'm happy with the scores we got. The feature importance, however, is useless unless we can get some labels for the word counts. Let's try the other ways for handling the neutral score and see how we do on those."
   ]
  },
  {
   "cell_type": "code",
   "execution_count": 130,
   "metadata": {},
   "outputs": [
    {
     "name": "stdout",
     "output_type": "stream",
     "text": [
      "Precision, Recall, F1 Score: \n",
      "(0.9476453564851355, 0.933160621761658, 0.9403472131575513, None)\n"
     ]
    }
   ],
   "source": [
    "# Lets round 3 up to a positive sentiment\n",
    "count_vect = CountVectorizer()\n",
    "X_roundup = count_vect.fit_transform(df_raw.reviewText)\n",
    "y_roundup = np.where(df_raw.overall>2, 1, 0)\n",
    "\n",
    "# This will be important later\n",
    "feature_names = count_vect.get_feature_names()\n",
    "\n",
    "# And now we can split the data\n",
    "X_train, X_test, y_train, y_test = train_test_split(X_roundup, y_roundup, test_size=0.2)\n",
    "\n",
    "roundup_clf = BernoulliNB()\n",
    "roundup_clf.fit(X_train, y_train)\n",
    "y_pred = roundup_clf.predict(X_test)\n",
    "result_roundup = precision_recall_fscore_support(y_test, y_pred, average='binary')\n",
    "print('Precision, Recall, F1 Score: \\n{}'.format(result_roundup))"
   ]
  },
  {
   "cell_type": "markdown",
   "metadata": {},
   "source": [
    "That was handled even better than the first attempt. The addition of more data must have helped. I have a feeling that since the extra data helped us to correctly classify positive examples, the sentiment of most '3' ratings is actually pretty positive. When we round down, this may negatively impact our results. Let's find out!"
   ]
  },
  {
   "cell_type": "code",
   "execution_count": 115,
   "metadata": {},
   "outputs": [
    {
     "name": "stdout",
     "output_type": "stream",
     "text": [
      "Precision, Recall, F1 Score: \n",
      "(0.8929698708751793, 0.8692737430167597, 0.880962491153574, None)\n"
     ]
    }
   ],
   "source": [
    "# Lets round 3 down to a negative sentiment\n",
    "count_vect = CountVectorizer()\n",
    "X_rounddown = count_vect.fit_transform(df_raw.reviewText)\n",
    "y_rounddown = np.where(df_raw.overall>3, 1, 0)\n",
    "\n",
    "# And now we can split the data\n",
    "X_train, X_test, y_train, y_test = train_test_split(X_rounddown, y_rounddown, test_size=0.2)\n",
    "\n",
    "rounddown_clf = BernoulliNB()\n",
    "rounddown_clf.fit(X_train, y_train)\n",
    "y_pred = rounddown_clf.predict(X_test)\n",
    "result_rounddown = precision_recall_fscore_support(y_test, y_pred, average='binary')\n",
    "print('Precision, Recall, F1 Score: \\n{}'.format(result_rounddown))"
   ]
  },
  {
   "cell_type": "markdown",
   "metadata": {},
   "source": [
    "As expected, a rating of 3 is more closely related to a positive sentiment than a negative one. I like how easily interperatable the binary classifers are, and the prompt doesn't really care about finding \"neutral\" sentiments, so I will skip trying to classify the 3 ratings as their own class.\n",
    "\n",
    "As the last attempt, I want to try to use our best classifier (roundup_clf) to use on another dataset. We will use the video games data, because I'm hoping this is very different from our automotive data."
   ]
  },
  {
   "cell_type": "code",
   "execution_count": 117,
   "metadata": {},
   "outputs": [
    {
     "data": {
      "text/html": [
       "<div>\n",
       "<style scoped>\n",
       "    .dataframe tbody tr th:only-of-type {\n",
       "        vertical-align: middle;\n",
       "    }\n",
       "\n",
       "    .dataframe tbody tr th {\n",
       "        vertical-align: top;\n",
       "    }\n",
       "\n",
       "    .dataframe thead th {\n",
       "        text-align: right;\n",
       "    }\n",
       "</style>\n",
       "<table border=\"1\" class=\"dataframe\">\n",
       "  <thead>\n",
       "    <tr style=\"text-align: right;\">\n",
       "      <th></th>\n",
       "      <th>asin</th>\n",
       "      <th>helpful</th>\n",
       "      <th>overall</th>\n",
       "      <th>reviewText</th>\n",
       "      <th>reviewTime</th>\n",
       "      <th>reviewerID</th>\n",
       "      <th>reviewerName</th>\n",
       "      <th>summary</th>\n",
       "      <th>unixReviewTime</th>\n",
       "    </tr>\n",
       "  </thead>\n",
       "  <tbody>\n",
       "    <tr>\n",
       "      <th>0</th>\n",
       "      <td>0700099867</td>\n",
       "      <td>[8, 12]</td>\n",
       "      <td>1</td>\n",
       "      <td>Installing the game was a struggle (because of...</td>\n",
       "      <td>07 9, 2012</td>\n",
       "      <td>A2HD75EMZR8QLN</td>\n",
       "      <td>123</td>\n",
       "      <td>Pay to unlock content? I don't think so.</td>\n",
       "      <td>1341792000</td>\n",
       "    </tr>\n",
       "    <tr>\n",
       "      <th>1</th>\n",
       "      <td>0700099867</td>\n",
       "      <td>[0, 0]</td>\n",
       "      <td>4</td>\n",
       "      <td>If you like rally cars get this game you will ...</td>\n",
       "      <td>06 30, 2013</td>\n",
       "      <td>A3UR8NLLY1ZHCX</td>\n",
       "      <td>Alejandro Henao \"Electronic Junky\"</td>\n",
       "      <td>Good rally game</td>\n",
       "      <td>1372550400</td>\n",
       "    </tr>\n",
       "    <tr>\n",
       "      <th>2</th>\n",
       "      <td>0700099867</td>\n",
       "      <td>[0, 0]</td>\n",
       "      <td>1</td>\n",
       "      <td>1st shipment received a book instead of the ga...</td>\n",
       "      <td>06 28, 2014</td>\n",
       "      <td>A1INA0F5CWW3J4</td>\n",
       "      <td>Amazon Shopper \"Mr.Repsol\"</td>\n",
       "      <td>Wrong key</td>\n",
       "      <td>1403913600</td>\n",
       "    </tr>\n",
       "    <tr>\n",
       "      <th>3</th>\n",
       "      <td>0700099867</td>\n",
       "      <td>[7, 10]</td>\n",
       "      <td>3</td>\n",
       "      <td>I got this version instead of the PS3 version,...</td>\n",
       "      <td>09 14, 2011</td>\n",
       "      <td>A1DLMTOTHQ4AST</td>\n",
       "      <td>ampgreen</td>\n",
       "      <td>awesome game, if it did not crash frequently !!</td>\n",
       "      <td>1315958400</td>\n",
       "    </tr>\n",
       "    <tr>\n",
       "      <th>4</th>\n",
       "      <td>0700099867</td>\n",
       "      <td>[2, 2]</td>\n",
       "      <td>4</td>\n",
       "      <td>I had Dirt 2 on Xbox 360 and it was an okay ga...</td>\n",
       "      <td>06 14, 2011</td>\n",
       "      <td>A361M14PU2GUEG</td>\n",
       "      <td>Angry Ryan \"Ryan A. Forrest\"</td>\n",
       "      <td>DIRT 3</td>\n",
       "      <td>1308009600</td>\n",
       "    </tr>\n",
       "  </tbody>\n",
       "</table>\n",
       "</div>"
      ],
      "text/plain": [
       "         asin  helpful  overall  \\\n",
       "0  0700099867  [8, 12]        1   \n",
       "1  0700099867   [0, 0]        4   \n",
       "2  0700099867   [0, 0]        1   \n",
       "3  0700099867  [7, 10]        3   \n",
       "4  0700099867   [2, 2]        4   \n",
       "\n",
       "                                          reviewText   reviewTime  \\\n",
       "0  Installing the game was a struggle (because of...   07 9, 2012   \n",
       "1  If you like rally cars get this game you will ...  06 30, 2013   \n",
       "2  1st shipment received a book instead of the ga...  06 28, 2014   \n",
       "3  I got this version instead of the PS3 version,...  09 14, 2011   \n",
       "4  I had Dirt 2 on Xbox 360 and it was an okay ga...  06 14, 2011   \n",
       "\n",
       "       reviewerID                        reviewerName  \\\n",
       "0  A2HD75EMZR8QLN                                 123   \n",
       "1  A3UR8NLLY1ZHCX  Alejandro Henao \"Electronic Junky\"   \n",
       "2  A1INA0F5CWW3J4          Amazon Shopper \"Mr.Repsol\"   \n",
       "3  A1DLMTOTHQ4AST                            ampgreen   \n",
       "4  A361M14PU2GUEG        Angry Ryan \"Ryan A. Forrest\"   \n",
       "\n",
       "                                           summary  unixReviewTime  \n",
       "0         Pay to unlock content? I don't think so.      1341792000  \n",
       "1                                  Good rally game      1372550400  \n",
       "2                                        Wrong key      1403913600  \n",
       "3  awesome game, if it did not crash frequently !!      1315958400  \n",
       "4                                           DIRT 3      1308009600  "
      ]
     },
     "execution_count": 117,
     "metadata": {},
     "output_type": "execute_result"
    }
   ],
   "source": [
    "df_videogames = pd.read_json('../Datasets/Video_Games_5.json', lines=True)\n",
    "df_videogames.head()"
   ]
  },
  {
   "cell_type": "markdown",
   "metadata": {},
   "source": [
    "Good, looks like the data is in the same format. I'll just copy the roundup cell from above, change a few things, and just run it."
   ]
  },
  {
   "cell_type": "code",
   "execution_count": 148,
   "metadata": {},
   "outputs": [],
   "source": [
    "# First, round a rating of 3 up to a positive sentiment\n",
    "y_roundup_videogames = np.where(df_videogames.overall>2, 1, 0)\n",
    "\n",
    "# Next, we cannot simply plug in our new text into our old model. The X data must be the same shape\n",
    "# as the data we used to fit the model. Otherwise we get an error. Luckily for us, we can use a list of \n",
    "# words as input to our CountVectorizer function. It will then only count the words we tell it to look for,\n",
    "# and ignore all others. This should give us the exact same features as before.\n",
    "count_vect = CountVectorizer(vocabulary=feature_names)\n",
    "X_roundup_videogames = count_vect.fit_transform(df_videogames.reviewText)"
   ]
  },
  {
   "cell_type": "code",
   "execution_count": 152,
   "metadata": {},
   "outputs": [
    {
     "name": "stdout",
     "output_type": "stream",
     "text": [
      "(20473, 27799)\n"
     ]
    },
    {
     "data": {
      "text/plain": [
       "(231780, 27799)"
      ]
     },
     "execution_count": 152,
     "metadata": {},
     "output_type": "execute_result"
    }
   ],
   "source": [
    "print(X_roundup.shape)\n",
    "X_roundup_videogames.shape"
   ]
  },
  {
   "cell_type": "markdown",
   "metadata": {},
   "source": [
    "Yep, that worked! We have more examples, but the same number of features. Let's try it out on our pre-made classifier."
   ]
  },
  {
   "cell_type": "code",
   "execution_count": 151,
   "metadata": {},
   "outputs": [
    {
     "name": "stdout",
     "output_type": "stream",
     "text": [
      "Precision, Recall, F1 Score: \n",
      "(0.9526180617432779, 0.9404915912031048, 0.9465159879179251, None)\n"
     ]
    }
   ],
   "source": [
    "y_pred_videogames = roundup_clf.predict(X_roundup)\n",
    "result_roundup_videogames = precision_recall_fscore_support(y_roundup, y_pred_videogames, average='binary')\n",
    "print('Precision, Recall, F1 Score: \\n{}'.format(result_roundup_videogames))"
   ]
  },
  {
   "cell_type": "markdown",
   "metadata": {},
   "source": [
    "Pretty amazing, our classifier actually did BETTER than with the original data. I think the reason for this is that there is simply more data."
   ]
  },
  {
   "cell_type": "code",
   "execution_count": null,
   "metadata": {},
   "outputs": [],
   "source": []
  }
 ],
 "metadata": {
  "kernelspec": {
   "display_name": "Python 3",
   "language": "python",
   "name": "python3"
  },
  "language_info": {
   "codemirror_mode": {
    "name": "ipython",
    "version": 3
   },
   "file_extension": ".py",
   "mimetype": "text/x-python",
   "name": "python",
   "nbconvert_exporter": "python",
   "pygments_lexer": "ipython3",
   "version": "3.6.4"
  }
 },
 "nbformat": 4,
 "nbformat_minor": 2
}
